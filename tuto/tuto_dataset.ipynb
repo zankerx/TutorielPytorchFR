{
 "cells": [
  {
   "cell_type": "markdown",
   "metadata": {},
   "source": [
    "# Création d'un dataset pytorch"
   ]
  },
  {
   "cell_type": "markdown",
   "metadata": {},
   "source": [
    "Pour créer un dataset pytorch, il faut créer une classe héritant de la classe __torch.utils.data.Dataset__ et redéfinir les methodes __len__ et __getitem__ qui permettent respectivement de connaitre le nombre d'éléments dans le dataset et de renvoyer l'exemple et la cible correspondant à un index donné.\n"
   ]
  },
  {
   "cell_type": "markdown",
   "metadata": {},
   "source": [
    "Ici nous allons créer un dataset pytorch qui à partir de données temporelles (le cours du bitcoin echantilloné sur 1000 minutes avec un intervalle de temps entre chaque mesures de 1 minute) renvois deux tenseurs pytorch. Le premier correspond à une observation de N (obs_size) points successifs et le second aux k (tgt_size) points suivants. Ces deux tenseurs sort normalisés par rapport à l'observation (le premier tenseur)."
   ]
  },
  {
   "cell_type": "code",
   "execution_count": 23,
   "metadata": {},
   "outputs": [],
   "source": [
    "#import de la classe abstraite Dataset\n",
    "from torch.utils.data import Dataset\n",
    "\n",
    "import numpy as np\n",
    "import torch"
   ]
  },
  {
   "cell_type": "code",
   "execution_count": 24,
   "metadata": {},
   "outputs": [],
   "source": [
    "#création de la classe MyDataSet héritant de la classe torch.utils.data.Dataset\n",
    "\n",
    "class MyDataSet(Dataset):\n",
    "    \n",
    "    '''\n",
    "    Dataset pytorch\n",
    "    \n",
    "    params:\n",
    "        obs_size : int\n",
    "        tgt_size : int\n",
    "    \n",
    "    '''\n",
    "    \n",
    "    def __init__(self,obs_size,tgt_size):\n",
    "        \n",
    "        self.obs_size = obs_size\n",
    "        self.tgt_size = tgt_size\n",
    "        self.data = np.loadtxt('data.csv')[:,1] #on ne selectionne que la valeur, pas le temps.\n",
    "        \n",
    "        self.size = len(self.data) - self.obs_size - self.tgt_size #on tiens compte de la taille de l'observation et de la cible\n",
    "        \n",
    "    #redefinition de la méthode __len__\n",
    "    def __len__(self):\n",
    "        \n",
    "        return self.size\n",
    "        \n",
    "    #redefinition de la méthode __getitem__\n",
    "    def __getitem__(self,idx):\n",
    "        \n",
    "        observation = np.copy(self.data[idx:idx + self.obs_size])\n",
    "        target = np.copy(self.data[idx + self.obs_size:idx + self.obs_size + self.tgt_size])\n",
    "        \n",
    "        #normalisation des données:\n",
    "        \n",
    "        mean = observation.mean() # calcul de la moyenne\n",
    "        std = observation.std() # clalcul de la déviation standard\n",
    "        \n",
    "        target = (target - mean)/std #normalisation de la cible\n",
    "        observation = (observation - mean)/std #normalisation de l'observation\n",
    "        \n",
    "        return torch.tensor(observation).float(), torch.tensor(target).float() #conversion en tenseurs pytorch\n",
    "        \n",
    "        "
   ]
  },
  {
   "cell_type": "markdown",
   "metadata": {},
   "source": [
    "## Test du Dataset"
   ]
  },
  {
   "cell_type": "code",
   "execution_count": 25,
   "metadata": {},
   "outputs": [],
   "source": [
    "import matplotlib.pyplot as plt"
   ]
  },
  {
   "cell_type": "code",
   "execution_count": 26,
   "metadata": {},
   "outputs": [],
   "source": [
    "dataset = MyDataSet(10,5)"
   ]
  },
  {
   "cell_type": "code",
   "execution_count": 35,
   "metadata": {},
   "outputs": [
    {
     "name": "stdout",
     "output_type": "stream",
     "text": [
      "985\n"
     ]
    }
   ],
   "source": [
    "print(len(dataset))"
   ]
  },
  {
   "cell_type": "code",
   "execution_count": 28,
   "metadata": {},
   "outputs": [
    {
     "data": {
      "text/plain": [
       "[<matplotlib.lines.Line2D at 0x2aa962fc320>]"
      ]
     },
     "execution_count": 28,
     "metadata": {},
     "output_type": "execute_result"
    },
    {
     "data": {
      "image/png": "[encoded data removed]",
      "text/plain": [
       "<Figure size 432x288 with 1 Axes>"
      ]
     },
     "metadata": {
      "needs_background": "light"
     },
     "output_type": "display_data"
    }
   ],
   "source": [
    "#affichage d'une observation et d'une cible:\n",
    "\n",
    "x1 = list(range(10))\n",
    "x2 = list(range(10,15))\n",
    "\n",
    "y1,y2 = dataset[10]\n",
    "\n",
    "plt.title('Un echantillon du DataSet')\n",
    "plt.ylabel('Prix normalisé')\n",
    "plt.xlabel('Temps (minutes)')\n",
    "\n",
    "plt.plot(x1,y1,'g')\n",
    "plt.plot(x2,y2,'r')"
   ]
  },
  {
   "cell_type": "code",
   "execution_count": null,
   "metadata": {},
   "outputs": [],
   "source": []
  },
  {
   "cell_type": "code",
   "execution_count": null,
   "metadata": {},
   "outputs": [],
   "source": []
  }
 ],
 "metadata": {
  "kernelspec": {
   "display_name": "Python 3",
   "language": "python",
   "name": "python3"
  },
  "language_info": {
   "codemirror_mode": {
    "name": "ipython",
    "version": 3
   },
   "file_extension": ".py",
   "mimetype": "text/x-python",
   "name": "python",
   "nbconvert_exporter": "python",
   "pygments_lexer": "ipython3",
   "version": "3.7.3"
  }
 },
 "nbformat": 4,
 "nbformat_minor": 2
}

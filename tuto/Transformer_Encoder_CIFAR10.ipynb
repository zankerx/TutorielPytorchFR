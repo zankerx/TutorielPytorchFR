{
 "cells": [
  {
   "cell_type": "markdown",
   "metadata": {},
   "source": [
    "# TransformerEncoder pour la reconnaissance d'images\n",
    "\n",
    "\n",
    "Ici nous allons utiliser un TransformerEncoder sur le jeu de données CIFAR10 afin de classifier des images. "
   ]
  },
  {
   "cell_type": "code",
   "execution_count": 14,
   "metadata": {},
   "outputs": [],
   "source": [
    "#import des ressources\n",
    "\n",
    "import torch.nn as nn\n",
    "import torch\n",
    "import torchvision\n",
    "import torchvision.transforms as transforms\n",
    "import matplotlib.pyplot as plt"
   ]
  },
  {
   "cell_type": "markdown",
   "metadata": {},
   "source": [
    "## Affichage d'une image :"
   ]
  },
  {
   "cell_type": "code",
   "execution_count": 15,
   "metadata": {},
   "outputs": [
    {
     "name": "stdout",
     "output_type": "stream",
     "text": [
      "Files already downloaded and verified\n"
     ]
    },
    {
     "data": {
      "image/png": "[encoded data removed]",
      "text/plain": [
       "<Figure size 432x288 with 1 Axes>"
      ]
     },
     "metadata": {
      "needs_background": "light"
     },
     "output_type": "display_data"
    },
    {
     "name": "stdout",
     "output_type": "stream",
     "text": [
      "Taille d'image : torch.Size([3, 32, 32])\n",
      "label : 1\n"
     ]
    }
   ],
   "source": [
    "transform = transforms.Compose([transforms.ToTensor()])\n",
    "trainset = torchvision.datasets.CIFAR10(root='./data', train=True, download=True, transform=transform)\n",
    "\n",
    "plt.imshow(trainset[4][0].transpose(0,2).transpose(0,1)) #inversion des dimentions pour l'affichage\n",
    "plt.show()\n",
    "\n",
    "print('''Taille d'image : {}'''.format(trainset[4][0].size()))\n",
    "print('''label : {}'''.format(trainset[4][1]))"
   ]
  },
  {
   "cell_type": "markdown",
   "metadata": {},
   "source": [
    "## Découpage de l'image en 16 sous images de taille 8x8"
   ]
  },
  {
   "cell_type": "code",
   "execution_count": 16,
   "metadata": {},
   "outputs": [],
   "source": [
    "class Split_image(object):\n",
    "    \n",
    "    '''\n",
    "    \n",
    "    Transformation de l'image en sous images de taille 8*8\n",
    "    \n",
    "    '''\n",
    "    \n",
    "    def __init__(self, kernel = 8, stride = 8):\n",
    "        \n",
    "        self.kernel = kernel\n",
    "        self.stride = stride\n",
    "    \n",
    "    \n",
    "    def __call__(self, img):\n",
    "        \n",
    "        patches = img.unfold(1, self.kernel, self.stride).unfold(2, self.kernel, self.stride)\n",
    "        patches = patches.contiguous().view(patches.size(0), -1, self.kernel, self.kernel)\n",
    "        patches = patches.transpose(0,1)\n",
    "        \n",
    "        return patches\n",
    "\n",
    "\n",
    "\n",
    "    "
   ]
  },
  {
   "cell_type": "markdown",
   "metadata": {},
   "source": [
    "## Transformation et encodage positionnel"
   ]
  },
  {
   "cell_type": "code",
   "execution_count": 17,
   "metadata": {},
   "outputs": [],
   "source": [
    "class Split_image_flat_posEncode(object):\n",
    "    \n",
    "    '''\n",
    "    \n",
    "    Transformation de l'image en sous images de taille 8*8\n",
    "    puis applatissement des sous images en vecteur de taille 64\n",
    "    ajout d'un encodage positionel simple sur chaque vecteur.\n",
    "    \n",
    "    '''\n",
    "    \n",
    "    \n",
    "    def __init__(self, kernel = 8, stride = 8):\n",
    "        \n",
    "        self.kernel = kernel\n",
    "        self.stride = stride\n",
    "        \n",
    "        self.position_vect = torch.range(0,15)/15\n",
    "        self.position_vect = self.position_vect.unsqueeze(1)\n",
    "    \n",
    "    def __call__(self, img):\n",
    "        \n",
    "        patches = img.unfold(1, self.kernel, self.stride).unfold(2, self.kernel, self.stride)\n",
    "        patches = patches.contiguous().view(patches.size(0), -1, self.kernel, self.kernel)\n",
    "        patches = patches.transpose(0,1)\n",
    "        patches = patches.flatten(start_dim=1)\n",
    "        \n",
    "        patches = torch.cat((patches,self.position_vect),dim = 1)\n",
    "        \n",
    "        return patches"
   ]
  },
  {
   "cell_type": "markdown",
   "metadata": {},
   "source": [
    "## Affichage d'une image découpée"
   ]
  },
  {
   "cell_type": "code",
   "execution_count": 18,
   "metadata": {},
   "outputs": [
    {
     "name": "stdout",
     "output_type": "stream",
     "text": [
      "Files already downloaded and verified\n",
      "Taille d'image : torch.Size([16, 3, 8, 8])\n"
     ]
    },
    {
     "data": {
      "image/png": "[encoded data removed]",
      "text/plain": [
       "<Figure size 432x288 with 16 Axes>"
      ]
     },
     "metadata": {
      "needs_background": "light"
     },
     "output_type": "display_data"
    }
   ],
   "source": [
    "split = Split_image(8,8)\n",
    "\n",
    "transform = transforms.Compose([transforms.ToTensor(),split])\n",
    "\n",
    "trainset = torchvision.datasets.CIFAR10(root='./data', train=True, download=True, transform=transform)\n",
    "\n",
    "for i in range(16):\n",
    "     \n",
    "    plt.subplot(4,4,i + 1 )\n",
    "    plt.imshow(trainset[4][0][i].transpose(0,2).transpose(0,1))\n",
    "\n",
    "print('''Taille d'image : {}'''.format(trainset[4][0].size()))"
   ]
  },
  {
   "cell_type": "markdown",
   "metadata": {},
   "source": [
    "## Définition du modèle :"
   ]
  },
  {
   "cell_type": "code",
   "execution_count": 43,
   "metadata": {},
   "outputs": [],
   "source": [
    "class Net(nn.Module):\n",
    "    \n",
    "    \n",
    "    def __init__(self, n_classes = 10):\n",
    "        \n",
    "        super(Net, self).__init__()\n",
    "        \n",
    "        self.n_classes = n_classes\n",
    "        \n",
    "        self.embedding = nn.Linear(193,193)\n",
    "        \n",
    "        self.encoder_layer = nn.TransformerEncoderLayer(d_model=193,\n",
    "                                                        nhead=1,\n",
    "                                                        dim_feedforward=2048,\n",
    "                                                        dropout=0.1,\n",
    "                                                        activation='gelu')\n",
    "        \n",
    "        self.transformer_encoder = nn.TransformerEncoder(self.encoder_layer, num_layers=2)\n",
    "        \n",
    "        self.MLP = nn.Sequential(nn.Linear(193*16,1024),\n",
    "                                 nn.GELU(),\n",
    "                                 nn.Linear(1024,1024),\n",
    "                                 nn.GELU(),\n",
    "                                 nn.Linear(1024, self.n_classes, bias=False))\n",
    "        \n",
    "    def forward(self, inputs):\n",
    "        \n",
    "        #inputs: [Batch, seq_len, features] = [Batch, 16, 193]\n",
    "        \n",
    "        out = self.embedding(inputs)\n",
    "        \n",
    "        out = out.transpose(0,1) #[seq_len, Batch, features]\n",
    "        \n",
    "        out = self.transformer_encoder(out) #[seq_len, Batch, features]\n",
    "        out = out.transpose(0,1) #[Batch, seq_len, features]\n",
    "        out = out.flatten(start_dim=1) #[Batch, seq_len * features]\n",
    "        \n",
    "        out = self.MLP(out) #[Batch, n_classes]\n",
    "        \n",
    "        return out"
   ]
  },
  {
   "cell_type": "code",
   "execution_count": 44,
   "metadata": {},
   "outputs": [
    {
     "name": "stdout",
     "output_type": "stream",
     "text": [
      "torch.Size([8, 10])\n"
     ]
    }
   ],
   "source": [
    "# test\n",
    "\n",
    "n = Net()\n",
    "a = torch.rand((8,16,193))\n",
    "\n",
    "print(n(a).size())"
   ]
  },
  {
   "cell_type": "markdown",
   "metadata": {},
   "source": [
    "## Entraînement du modèle"
   ]
  },
  {
   "cell_type": "code",
   "execution_count": 49,
   "metadata": {},
   "outputs": [],
   "source": [
    "EPOCH = 100\n",
    "BATCH_SIZE = 32\n",
    "LR = 0.0001\n",
    "N_CLASSES = 10\n",
    "\n",
    "device = torch.device(\"cuda:0\")\n"
   ]
  },
  {
   "cell_type": "code",
   "execution_count": 50,
   "metadata": {},
   "outputs": [],
   "source": [
    "net = Net(N_CLASSES)\n",
    "net = net.to(device)\n",
    "\n",
    "optimizer = torch.optim.Adam(net.parameters(), lr=LR)\n",
    "criterion = nn.CrossEntropyLoss(reduction = 'sum')"
   ]
  },
  {
   "cell_type": "code",
   "execution_count": 51,
   "metadata": {},
   "outputs": [
    {
     "name": "stderr",
     "output_type": "stream",
     "text": [
      "C:\\ProgramData\\Anaconda3\\lib\\site-packages\\ipykernel_launcher.py:17: UserWarning: torch.range is deprecated and will be removed in a future release because its behavior is inconsistent with Python's range builtin. Instead, use torch.arange, which produces values in [start, end).\n"
     ]
    },
    {
     "name": "stdout",
     "output_type": "stream",
     "text": [
      "Files already downloaded and verified\n",
      "Files already downloaded and verified\n"
     ]
    }
   ],
   "source": [
    "#Données\n",
    "\n",
    "split = Split_image_flat_posEncode(8,8)\n",
    "\n",
    "transform = transforms.Compose([transforms.ToTensor(),split])\n",
    "\n",
    "trainset = torchvision.datasets.CIFAR10(root='./data', train=True, download=True, transform=transform)\n",
    "testset = torchvision.datasets.CIFAR10(root='./data', train=False, download=True, transform=transform)\n",
    "\n",
    "trainloader = torch.utils.data.DataLoader(trainset, batch_size=BATCH_SIZE, shuffle=True)\n",
    "testloader = torch.utils.data.DataLoader(testset, batch_size=BATCH_SIZE, shuffle=False)"
   ]
  },
  {
   "cell_type": "code",
   "execution_count": 52,
   "metadata": {},
   "outputs": [
    {
     "name": "stdout",
     "output_type": "stream",
     "text": [
      "Epoch: 1 | train: 1.4444190562057495 | test: 1.2218202016830444 \n",
      "Epoch: 1 | acc_train: 0.4813 | acc_test: 0.562 \n",
      "Epoch: 2 | train: 1.0636294672393798 | test: 1.0577828779220582 \n",
      "Epoch: 2 | acc_train: 0.62236 | acc_test: 0.618 \n",
      "Epoch: 3 | train: 0.8238867914390564 | test: 1.0045724081039429 \n",
      "Epoch: 3 | acc_train: 0.71036 | acc_test: 0.6455 \n",
      "Epoch: 4 | train: 0.6021567339134216 | test: 0.9956195738792419 \n",
      "Epoch: 4 | acc_train: 0.78784 | acc_test: 0.6617 \n",
      "Epoch: 5 | train: 0.3989513892507553 | test: 1.097713003540039 \n",
      "Epoch: 5 | acc_train: 0.86128 | acc_test: 0.6574 \n",
      "Epoch: 6 | train: 0.239616645257473 | test: 1.2257106433868408 \n",
      "Epoch: 6 | acc_train: 0.91942 | acc_test: 0.6591 \n",
      "Epoch: 7 | train: 0.15504890548169614 | test: 1.4607050322532653 \n",
      "Epoch: 7 | acc_train: 0.94802 | acc_test: 0.6574 \n",
      "Epoch: 8 | train: 0.11108268482416868 | test: 1.5671322686195372 \n",
      "Epoch: 8 | acc_train: 0.96194 | acc_test: 0.657 \n",
      "Epoch: 9 | train: 0.09477291798181832 | test: 1.52238395652771 \n",
      "Epoch: 9 | acc_train: 0.96778 | acc_test: 0.6593 \n",
      "Epoch: 10 | train: 0.08182663066163659 | test: 1.7546330821037293 \n",
      "Epoch: 10 | acc_train: 0.97302 | acc_test: 0.6572 \n",
      "Epoch: 11 | train: 0.07384275244921445 | test: 1.8998564034461976 \n",
      "Epoch: 11 | acc_train: 0.97452 | acc_test: 0.6564 \n",
      "Epoch: 12 | train: 0.06781109843090176 | test: 1.777336840724945 \n",
      "Epoch: 12 | acc_train: 0.97672 | acc_test: 0.6597 \n",
      "Epoch: 13 | train: 0.06224492869719863 | test: 1.8716674249649048 \n",
      "Epoch: 13 | acc_train: 0.97874 | acc_test: 0.6536 \n",
      "Epoch: 14 | train: 0.05726000950973481 | test: 1.9608198081016541 \n",
      "Epoch: 14 | acc_train: 0.98036 | acc_test: 0.6674 \n",
      "Epoch: 15 | train: 0.05292913069752976 | test: 1.9396754101753235 \n",
      "Epoch: 15 | acc_train: 0.9825 | acc_test: 0.6697 \n",
      "Epoch: 16 | train: 0.052624836585260924 | test: 2.0044139560699463 \n",
      "Epoch: 16 | acc_train: 0.98178 | acc_test: 0.6684 \n",
      "Epoch: 17 | train: 0.04797714869644493 | test: 2.015789374542236 \n",
      "Epoch: 17 | acc_train: 0.98356 | acc_test: 0.6686 \n",
      "Epoch: 18 | train: 0.0461418256476149 | test: 2.00696757144928 \n",
      "Epoch: 18 | acc_train: 0.98462 | acc_test: 0.6628 \n",
      "Epoch: 19 | train: 0.04549153450064361 | test: 2.051347853565216 \n",
      "Epoch: 19 | acc_train: 0.98484 | acc_test: 0.6636 \n",
      "Epoch: 20 | train: 0.04396376098345965 | test: 2.0142015725135805 \n",
      "Epoch: 20 | acc_train: 0.98556 | acc_test: 0.6598 \n",
      "Epoch: 21 | train: 0.039247866289182566 | test: 2.2817533533096315 \n",
      "Epoch: 21 | acc_train: 0.98624 | acc_test: 0.6566 \n",
      "Epoch: 22 | train: 0.038306638043222485 | test: 2.21538750705719 \n",
      "Epoch: 22 | acc_train: 0.98648 | acc_test: 0.6666 \n",
      "Epoch: 23 | train: 0.03890720746915787 | test: 2.261099295806885 \n",
      "Epoch: 23 | acc_train: 0.98684 | acc_test: 0.6561 \n",
      "Epoch: 24 | train: 0.03878459329668432 | test: 2.1389211345672607 \n",
      "Epoch: 24 | acc_train: 0.98706 | acc_test: 0.6652 \n",
      "Epoch: 25 | train: 0.03456119231789373 | test: 2.1650326587677 \n",
      "Epoch: 25 | acc_train: 0.98838 | acc_test: 0.6676 \n",
      "Epoch: 26 | train: 0.03481053964297287 | test: 2.2664625564575194 \n",
      "Epoch: 26 | acc_train: 0.988 | acc_test: 0.6619 \n",
      "Epoch: 27 | train: 0.033274591782169884 | test: 2.2232228740692137 \n",
      "Epoch: 27 | acc_train: 0.98826 | acc_test: 0.6601 \n",
      "Epoch: 28 | train: 0.030431551889614203 | test: 2.165267267036438 \n",
      "Epoch: 28 | acc_train: 0.98948 | acc_test: 0.6666 \n",
      "Epoch: 29 | train: 0.03273354342386126 | test: 2.337265404891968 \n",
      "Epoch: 29 | acc_train: 0.9888 | acc_test: 0.6666 \n",
      "Epoch: 30 | train: 0.029591058609123574 | test: 2.2911542379379273 \n",
      "Epoch: 30 | acc_train: 0.98972 | acc_test: 0.6665 \n",
      "Epoch: 31 | train: 0.033839307641866614 | test: 2.2386239027023316 \n",
      "Epoch: 31 | acc_train: 0.98856 | acc_test: 0.6604 \n",
      "Epoch: 32 | train: 0.023878358568896075 | test: 2.288362601184845 \n",
      "Epoch: 32 | acc_train: 0.99192 | acc_test: 0.6631 \n",
      "Epoch: 33 | train: 0.027877818471645006 | test: 2.2810128601074218 \n",
      "Epoch: 33 | acc_train: 0.99056 | acc_test: 0.6672 \n",
      "Epoch: 34 | train: 0.02914445633284282 | test: 2.3007328976631163 \n",
      "Epoch: 34 | acc_train: 0.98972 | acc_test: 0.6638 \n",
      "Epoch: 35 | train: 0.028131584808260668 | test: 2.265800464916229 \n",
      "Epoch: 35 | acc_train: 0.9902 | acc_test: 0.6653 \n",
      "Epoch: 36 | train: 0.022131981104437728 | test: 2.3181745965003966 \n",
      "Epoch: 36 | acc_train: 0.9926 | acc_test: 0.6655 \n",
      "Epoch: 37 | train: 0.030296989577771164 | test: 2.2917918015480043 \n",
      "Epoch: 37 | acc_train: 0.989 | acc_test: 0.6658 \n",
      "Epoch: 38 | train: 0.024437562406428043 | test: 2.492628456115723 \n",
      "Epoch: 38 | acc_train: 0.99198 | acc_test: 0.6654 \n",
      "Epoch: 39 | train: 0.025718204114494148 | test: 2.626685680961609 \n",
      "Epoch: 39 | acc_train: 0.99138 | acc_test: 0.6656 \n",
      "Epoch: 40 | train: 0.024091384767593118 | test: 2.5687000356674194 \n",
      "Epoch: 40 | acc_train: 0.9922 | acc_test: 0.6587 \n",
      "Epoch: 41 | train: 0.02477103522897698 | test: 2.5821042323112486 \n",
      "Epoch: 41 | acc_train: 0.99166 | acc_test: 0.6594 \n",
      "Epoch: 42 | train: 0.02306919491308625 | test: 2.4418703720092774 \n",
      "Epoch: 42 | acc_train: 0.99242 | acc_test: 0.6579 \n",
      "Epoch: 43 | train: 0.01822250234811916 | test: 2.6573404521942137 \n",
      "Epoch: 43 | acc_train: 0.9938 | acc_test: 0.6574 \n",
      "Epoch: 44 | train: 0.026124996863035484 | test: 2.522571697616577 \n",
      "Epoch: 44 | acc_train: 0.99108 | acc_test: 0.6677 \n",
      "Epoch: 45 | train: 0.02442109976016567 | test: 2.496966145706177 \n",
      "Epoch: 45 | acc_train: 0.99138 | acc_test: 0.6648 \n",
      "Epoch: 46 | train: 0.021222043457736144 | test: 2.4871797458648683 \n",
      "Epoch: 46 | acc_train: 0.99296 | acc_test: 0.6657 \n",
      "Epoch: 47 | train: 0.018153192709542344 | test: 2.5433263476371764 \n",
      "Epoch: 47 | acc_train: 0.9938 | acc_test: 0.6572 \n",
      "Epoch: 48 | train: 0.02254122755938355 | test: 2.5564503162384034 \n",
      "Epoch: 48 | acc_train: 0.9921 | acc_test: 0.6682 \n",
      "Epoch: 49 | train: 0.02232632731037098 | test: 2.4829377697467803 \n",
      "Epoch: 49 | acc_train: 0.99196 | acc_test: 0.6687 \n",
      "Epoch: 50 | train: 0.021785927509196334 | test: 2.4279611763954163 \n",
      "Epoch: 50 | acc_train: 0.9927 | acc_test: 0.6607 \n",
      "Epoch: 51 | train: 0.007076224552825807 | test: 2.402869201660156 \n",
      "Epoch: 51 | acc_train: 0.99738 | acc_test: 0.6801 \n",
      "Epoch: 52 | train: 0.0015279649551323382 | test: 2.5351560733795164 \n",
      "Epoch: 52 | acc_train: 0.99968 | acc_test: 0.6825 \n",
      "Epoch: 53 | train: 0.0007562808169086202 | test: 2.565089623737335 \n",
      "Epoch: 53 | acc_train: 0.99994 | acc_test: 0.6845 \n",
      "Epoch: 54 | train: 0.00046220314754042194 | test: 2.6417116571426393 \n",
      "Epoch: 54 | acc_train: 0.99998 | acc_test: 0.6833 \n",
      "Epoch: 55 | train: 0.00038395644271229686 | test: 2.6850622097969055 \n",
      "Epoch: 55 | acc_train: 0.99996 | acc_test: 0.6829 \n",
      "Epoch: 56 | train: 0.0003424265155007015 | test: 2.7520000001907348 \n",
      "Epoch: 56 | acc_train: 0.99994 | acc_test: 0.6841 \n",
      "Epoch: 57 | train: 0.0001590169535896166 | test: 2.797732007598877 \n",
      "Epoch: 57 | acc_train: 1.0 | acc_test: 0.6853 \n",
      "Epoch: 58 | train: 0.0001715985615856971 | test: 2.8240337089538574 \n",
      "Epoch: 58 | acc_train: 0.99996 | acc_test: 0.6866 \n",
      "Epoch: 59 | train: 0.00012831432394607418 | test: 2.8661565247535705 \n",
      "Epoch: 59 | acc_train: 0.99998 | acc_test: 0.6846 \n",
      "Epoch: 60 | train: 0.0002624150580585047 | test: 2.903177360057831 \n",
      "Epoch: 60 | acc_train: 0.99992 | acc_test: 0.6844 \n",
      "Epoch: 61 | train: 0.00023042080204373634 | test: 2.949224227619171 \n",
      "Epoch: 61 | acc_train: 0.99994 | acc_test: 0.684 \n",
      "Epoch: 62 | train: 9.78946403295663e-05 | test: 3.0038170952796936 \n",
      "Epoch: 62 | acc_train: 1.0 | acc_test: 0.6858 \n",
      "Epoch: 63 | train: 4.129961037747535e-05 | test: 3.014749746608734 \n",
      "Epoch: 63 | acc_train: 1.0 | acc_test: 0.6864 \n",
      "Epoch: 64 | train: 3.089723593373946e-05 | test: 3.061673663902283 \n",
      "Epoch: 64 | acc_train: 1.0 | acc_test: 0.6889 \n",
      "Epoch: 65 | train: 2.358953673390829e-05 | test: 3.1064119562149046 \n",
      "Epoch: 65 | acc_train: 1.0 | acc_test: 0.6866 \n",
      "Epoch: 66 | train: 2.0788943923227946e-05 | test: 3.1775933800697325 \n",
      "Epoch: 66 | acc_train: 1.0 | acc_test: 0.6884 \n",
      "Epoch: 67 | train: 2.3041965971376613e-05 | test: 3.2542895386695863 \n",
      "Epoch: 67 | acc_train: 1.0 | acc_test: 0.688 \n",
      "Epoch: 68 | train: 2.9324957855884435e-05 | test: 3.2004031677246094 \n",
      "Epoch: 68 | acc_train: 1.0 | acc_test: 0.6912 \n",
      "Epoch: 69 | train: 6.879536693685665e-05 | test: 3.243869084358215 \n",
      "Epoch: 69 | acc_train: 1.0 | acc_test: 0.6916 \n",
      "Epoch: 70 | train: 1.957604405716694e-05 | test: 3.2821798617362976 \n",
      "Epoch: 70 | acc_train: 1.0 | acc_test: 0.6898 \n",
      "Epoch: 71 | train: 1.475139922773991e-05 | test: 3.3072410740852356 \n",
      "Epoch: 71 | acc_train: 1.0 | acc_test: 0.6913 \n",
      "Epoch: 72 | train: 2.6638268241947146e-05 | test: 3.307299885559082 \n",
      "Epoch: 72 | acc_train: 1.0 | acc_test: 0.6904 \n",
      "Epoch: 73 | train: 9.955064053244342e-06 | test: 3.4126695098876954 \n",
      "Epoch: 73 | acc_train: 1.0 | acc_test: 0.6906 \n",
      "Epoch: 74 | train: 1.123301929531891e-05 | test: 3.405993867301941 \n",
      "Epoch: 74 | acc_train: 1.0 | acc_test: 0.6924 \n",
      "Epoch: 75 | train: 0.00011476607652824683 | test: 3.420801010131836 \n",
      "Epoch: 75 | acc_train: 0.99996 | acc_test: 0.6896 \n",
      "Epoch: 76 | train: 8.250957896686515e-06 | test: 3.4555319158554076 \n",
      "Epoch: 76 | acc_train: 1.0 | acc_test: 0.6916 \n",
      "Epoch: 77 | train: 5.443156666562033e-06 | test: 3.486837588596344 \n",
      "Epoch: 77 | acc_train: 1.0 | acc_test: 0.6916 \n",
      "Epoch: 78 | train: 5.760346147056907e-06 | test: 3.515256108379364 \n",
      "Epoch: 78 | acc_train: 1.0 | acc_test: 0.6902 \n",
      "Epoch: 79 | train: 7.620071003251638e-06 | test: 3.624947874069214 \n",
      "Epoch: 79 | acc_train: 1.0 | acc_test: 0.6909 \n",
      "Epoch: 80 | train: 1.2734873823877137e-05 | test: 3.4899366391181945 \n",
      "Epoch: 80 | acc_train: 1.0 | acc_test: 0.6903 \n",
      "Epoch: 81 | train: 7.31017325290658e-05 | test: 3.4981386280059814 \n",
      "Epoch: 81 | acc_train: 0.99998 | acc_test: 0.6913 \n",
      "Epoch: 82 | train: 2.1020204782680453e-05 | test: 3.5464399598121643 \n",
      "Epoch: 82 | acc_train: 1.0 | acc_test: 0.6919 \n",
      "Epoch: 83 | train: 4.661666265548093e-06 | test: 3.554085234928131 \n",
      "Epoch: 83 | acc_train: 1.0 | acc_test: 0.6927 \n",
      "Epoch: 84 | train: 9.49491890322875e-06 | test: 3.5766143140792845 \n",
      "Epoch: 84 | acc_train: 1.0 | acc_test: 0.6887 \n",
      "Epoch: 85 | train: 1.622983268859798e-05 | test: 3.5325206441879273 \n",
      "Epoch: 85 | acc_train: 1.0 | acc_test: 0.6891 \n",
      "Epoch: 86 | train: 4.7121419282050565e-05 | test: 3.5477745810508727 \n",
      "Epoch: 86 | acc_train: 0.99996 | acc_test: 0.6864 \n",
      "Epoch: 87 | train: 7.331025149492945e-06 | test: 3.548673757648468 \n",
      "Epoch: 87 | acc_train: 1.0 | acc_test: 0.6895 \n",
      "Epoch: 88 | train: 4.724993684951358e-06 | test: 3.56208087348938 \n",
      "Epoch: 88 | acc_train: 1.0 | acc_test: 0.6891 \n",
      "Epoch: 89 | train: 2.3723935128671768e-06 | test: 3.600574921798706 \n",
      "Epoch: 89 | acc_train: 1.0 | acc_test: 0.6907 \n",
      "Epoch: 90 | train: 1.77022520149265e-06 | test: 3.6799474331855775 \n",
      "Epoch: 90 | acc_train: 1.0 | acc_test: 0.691 \n",
      "Epoch: 91 | train: 1.2836882709970184e-05 | test: 3.656156732559204 \n",
      "Epoch: 91 | acc_train: 1.0 | acc_test: 0.6869 \n",
      "Epoch: 92 | train: 8.369029156332317e-06 | test: 3.682683234786987 \n",
      "Epoch: 92 | acc_train: 1.0 | acc_test: 0.6896 \n",
      "Epoch: 93 | train: 3.872965913135573e-06 | test: 3.710125876235962 \n",
      "Epoch: 93 | acc_train: 1.0 | acc_test: 0.6881 \n",
      "Epoch: 94 | train: 4.398490052767841e-06 | test: 3.664915271949768 \n",
      "Epoch: 94 | acc_train: 1.0 | acc_test: 0.6887 \n",
      "Epoch: 95 | train: 2.332977959296585e-06 | test: 3.715398490715027 \n",
      "Epoch: 95 | acc_train: 1.0 | acc_test: 0.6903 \n",
      "Epoch: 96 | train: 1.3337086211629413e-06 | test: 3.8358697754859925 \n",
      "Epoch: 96 | acc_train: 1.0 | acc_test: 0.6889 \n",
      "Epoch: 97 | train: 1.5702821772865149e-06 | test: 3.8986224605560302 \n",
      "Epoch: 97 | acc_train: 1.0 | acc_test: 0.6905 \n",
      "Epoch: 98 | train: 4.616917791284152e-06 | test: 3.878253625679016 \n",
      "Epoch: 98 | acc_train: 1.0 | acc_test: 0.6868 \n",
      "Epoch: 99 | train: 6.4594632252340035e-06 | test: 3.9226808492660523 \n",
      "Epoch: 99 | acc_train: 1.0 | acc_test: 0.6912 \n",
      "Epoch: 100 | train: 2.6230573628262306e-05 | test: 3.852276399612427 \n",
      "Epoch: 100 | acc_train: 1.0 | acc_test: 0.6902 \n"
     ]
    }
   ],
   "source": [
    "losses_train = []\n",
    "losses_test = []\n",
    "\n",
    "acc_train = []\n",
    "acc_test = []\n",
    "\n",
    "for e in range(EPOCH):\n",
    "    \n",
    "    net.train()\n",
    "    train_loss = 0.0\n",
    "    correct = 0.0\n",
    "    total = 0\n",
    "    \n",
    "    if e == 50:\n",
    "        optimizer.param_groups[0]['lr'] = 0.00001\n",
    "    \n",
    "    \n",
    "    for index,(inputs,labels) in enumerate(trainloader):\n",
    "        \n",
    "        inputs = inputs.to(device)\n",
    "        labels = labels.to(device)\n",
    "        \n",
    "        optimizer.zero_grad()\n",
    "\n",
    "        outputs = net(inputs)\n",
    "\n",
    "        loss = criterion(outputs, labels)\n",
    "        train_loss += loss.item()\n",
    "        \n",
    "        loss.backward()\n",
    "        optimizer.step()\n",
    "        \n",
    "        \n",
    "        _, predicted = torch.max(outputs.data, 1)\n",
    "        correct += (predicted == labels).sum().item()\n",
    "        \n",
    "        total += inputs.size(0) #nombre total d'exemples observés\n",
    "        \n",
    "    \n",
    "    losses_train.append(train_loss/total)\n",
    "    acc_train.append(correct/total)\n",
    "    \n",
    "    #test\n",
    "    \n",
    "    net.eval()\n",
    "    test_loss = 0.0\n",
    "    total = 0\n",
    "    correct = 0.0\n",
    "    \n",
    "    for index,(inputs,labels) in enumerate(testloader):\n",
    "        with torch.no_grad():\n",
    "            \n",
    "            inputs = inputs.to(device)\n",
    "            labels = labels.to(device)\n",
    "            \n",
    "            outputs = net(inputs)\n",
    "\n",
    "            loss = criterion(outputs, labels)\n",
    "            test_loss += loss.item()\n",
    "            \n",
    "            total += inputs.size(0)\n",
    "            \n",
    "            _, predicted = torch.max(outputs.data, 1)\n",
    "            correct += (predicted == labels).sum().item()\n",
    "    \n",
    "    acc_test.append(correct/total)\n",
    "    losses_test.append(test_loss/total)\n",
    "    \n",
    "    print('Epoch: {} | train: {} | test: {} '.format(e+1,losses_train[-1],losses_test[-1]))\n",
    "    print('Epoch: {} | acc_train: {} | acc_test: {} '.format(e+1,acc_train[-1],acc_test[-1]))"
   ]
  },
  {
   "cell_type": "markdown",
   "metadata": {},
   "source": [
    "On observe que la loss sur le jeu de test augmente et que l'accuracy stagne autour de 69%. On a ici un phénomène de sur-apprentissage. Pour palier ceci on peu evisager d'augmenter le taux de dropout dans le transformerEncoder, ou d'ajouter des couches de dropout dans le perceptron. On peut aussi envisager de diminuer la taille de notre modèle."
   ]
  },
  {
   "cell_type": "code",
   "execution_count": null,
   "metadata": {},
   "outputs": [],
   "source": []
  }
 ],
 "metadata": {
  "kernelspec": {
   "display_name": "Python 3",
   "language": "python",
   "name": "python3"
  },
  "language_info": {
   "codemirror_mode": {
    "name": "ipython",
    "version": 3
   },
   "file_extension": ".py",
   "mimetype": "text/x-python",
   "name": "python",
   "nbconvert_exporter": "python",
   "pygments_lexer": "ipython3",
   "version": "3.7.3"
  }
 },
 "nbformat": 4,
 "nbformat_minor": 2
}
